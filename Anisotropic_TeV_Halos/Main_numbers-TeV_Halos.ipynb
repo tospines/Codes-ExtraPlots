{
 "cells": [
  {
   "cell_type": "code",
   "execution_count": 1,
   "id": "d18266cf",
   "metadata": {},
   "outputs": [],
   "source": [
    "import os\n",
    "import numpy as np\n",
    "import matplotlib\n",
    "import matplotlib.pyplot as plt\n",
    "from astropy.io import fits\n",
    "from mpl_toolkits.mplot3d import Axes3D\n",
    "from matplotlib import cm\n",
    "from matplotlib import rc, rcParams\n",
    "from scipy import interpolate\n",
    "import matplotlib.ticker as mticker\n",
    "import math\n",
    "import time\n",
    "import scipy.optimize as optimize\n",
    "from scipy.integrate import quad"
   ]
  },
  {
   "cell_type": "code",
   "execution_count": 2,
   "id": "d261875d",
   "metadata": {},
   "outputs": [],
   "source": [
    "###############\n",
    "# LaTeX block #\n",
    "###############\n",
    "\n",
    "rc('text', usetex=True)\n",
    "rc('font',**{'family':'serif','serif':['Palatino']})\n",
    "rc('xtick', labelsize=18)\n",
    "rc('ytick', labelsize=18)\n",
    "rcParams['legend.numpoints'] = 1\n",
    "plt.rcParams['axes.linewidth'] = 2"
   ]
  },
  {
   "cell_type": "code",
   "execution_count": 3,
   "id": "5122d722",
   "metadata": {},
   "outputs": [
    {
     "name": "stdout",
     "output_type": "stream",
     "text": [
      "200 200000.0 1.3\n",
      "28\n",
      "Our reference diffusion coefficient (at 1 GeV) is: D_ref = 3.8e+28 cm^2/s = 0.12579905392620627 $pc^2/yr$\n",
      "\n"
     ]
    }
   ],
   "source": [
    "L_ref = 120.                 # chosen reference length, in [pc]\n",
    "#d_cyg_ref = 1.5e+3           # reference distance of the Cygnus-X region, in [pc]\n",
    "conv_pc_cm = 3.086e+18       # conversion factor from [pc] to [cm]\n",
    "conv_cm_pc = 3.24e-19        # conversion factor from [cm] to [pc]\n",
    "conv_s_yr = 3.171e-8         # conversion factor from [sec] to [yr]\n",
    "conv_yr_sec = 3.154e+7       # conversion factor from [yr] to [sec]\n",
    "conv_sec_yr = 1/conv_yr_sec\n",
    "conv_rad_degree = 57.2958    # conversion factor from [rad] to [deg]\n",
    "conv_erg_GeV = 624.151\n",
    "conv_GeV_erg = 1/conv_erg_GeV\n",
    "c = 2.998e+10                # speed of light, in [cm/s]\n",
    "B_field = 3 # microGauss\n",
    "k_B = 8.617e-5 # eV/K\n",
    "sigmaT = 6.652e-25 # cm^2\n",
    "m_e = 0.000510998918  # electron mass in [GeV c^{-2}]\n",
    "m_ec2 = 0.511*1e6 #eV/c^2 \n",
    "U_B = 0.224*((B_field/3)**2) *1e-9 # eV/cm^3 --> GeV/cm^3 and B_field in microGauss\n",
    "U_CMB = 0.26 *1e-9  # eV/cm^3 --> GeV/cm^3 \n",
    "U_IR = 0.25 *1e-9   # eV/cm^3 --> GeV/cm^3 \n",
    "U_Opt = 0.055 *1e-9 # eV/cm^3 --> GeV/cm^3 \n",
    "U_UV1 = 0.37 *1e-9  # eV/cm^3 --> GeV/cm^3 \n",
    "U_UV2 = 0.23 *1e-9  # eV/cm^3 --> GeV/cm^3 \n",
    "U_UV3 = 0.12 *1e-9  # eV/cm^3 --> GeV/cm^3 \n",
    "\n",
    "\n",
    "\n",
    "Emax = 2e5\n",
    "Emin = 200\n",
    "Ekin_fac = 1.3\n",
    "print(Emin, Emax, Ekin_fac)\n",
    "dimE = int( (np.log(Emax) - np.log(Emin)) / np.log(Ekin_fac)) + 2 # I added another more point to pass E_max!\n",
    "print(dimE)\n",
    "E = [Emin*(Ekin_fac**i) for i in range(0,dimE)]\n",
    "E = np.array(E)\n",
    "dE = (np.append(E[1:], Emin*(Ekin_fac**dimE)) - E)/E\n",
    "\n",
    "\n",
    "# Diffusion coefficient #\n",
    "D_ref = 3.8e28 ## this is [cm^2/s]\n",
    "delta = 1./3. #0.5\n",
    "\n",
    "print(r'Our reference diffusion coefficient (at 1 GeV) is: D_ref =', D_ref, r'cm^2/s =', \n",
    "      D_ref*((conv_cm_pc**2)/conv_s_yr), r'$pc^2/yr$')\n",
    "print(\"\")\n",
    "#D = (D_ref*(E**delta)/(L_ref*c*conv_cm_pc/conv_s_yr))*((conv_cm_pc**2)/conv_s_yr) \n",
    "    ## Here, c is in units of [pc/yr] and L of parsecs. Then, we convert D in [cm^2/s] to be [pc^2/yr]\n",
    "D = (D_ref*(E**delta))"
   ]
  },
  {
   "cell_type": "code",
   "execution_count": null,
   "id": "720d75cb",
   "metadata": {},
   "outputs": [],
   "source": []
  },
  {
   "cell_type": "markdown",
   "id": "c0732f1b",
   "metadata": {},
   "source": [
    "# <center>Energy-loss rate, with Klein-Nishina correction\n",
    "    \n",
    "$$\n",
    "\\begin{align}\n",
    "& b(E) \\equiv \\frac{dE}{dt} = - \\frac{4}{3} \\sigma_T c \\left[ f^{KN}_{i} U_i + U_B \\right] \\, \\left( \\frac{E}{m_e c^2} \\right)^2 \\\\[10 pt]\n",
    "& f^{KN}_{i} = \\frac{ \\frac{45}{64 \\pi^2} \\left( \\frac{m_e c^2}{k_B T_i} \\right)^2 }{ \\frac{45}{64 \\pi^2} \\left( \\frac{m_e c^2}{k_B T_i} \\right)^2 + \\left( \\frac{E}{m_e c^2} \\right)^2 }\n",
    "\\end{align}\n",
    "$$"
   ]
  },
  {
   "cell_type": "code",
   "execution_count": 9,
   "id": "a737d742",
   "metadata": {},
   "outputs": [
    {
     "name": "stdout",
     "output_type": "stream",
     "text": [
      "B field = 3.2e-06 [G], magnetic energy density = 2.5430199522751886e-10 [GeV cm^{-3}]\n",
      "\n",
      "Considered energy: 100.0 [TeV]\n",
      "\n",
      "tau losses at 100.0 [TeV]: 7933.489890642578 [yr]\n"
     ]
    }
   ],
   "source": [
    "### Klein-Nishina factor, from Evoli et al. arXiv:2007.01302 (2020) ###\n",
    "#######################################################################\n",
    "ISRF_components = ['CMB', 'IR', 'OPT', 'UV_1', 'UV_2', 'UV_3']\n",
    "T_ISRF = [2.725, 33.07, 313.32, 3249.3, 6150.4, 23209.0]            # in [K]\n",
    "U_ISRF = [0.26e-9, 0.25e-9, 0.055e-9, 0.37e-9, 0.23e-9, 0.12e-9]    # energy density of the contributions, in [GeV cm^(-3)]\n",
    "\n",
    "B_field = 3.2e-6         # magnetic field, in [G]\n",
    "U_B = ( B_field**2 / (8*np.pi) ) * conv_erg_GeV\n",
    "print('B field =', B_field, '[G], magnetic energy density =', U_B, '[GeV cm^{-3}]')\n",
    "print('')\n",
    "\n",
    "k_boltzmann = k_B*1e-9\n",
    "factor_ratio = ( 45 / (64*np.pi**2) )\n",
    "def loss_rate_KN(Energy):\n",
    "    \n",
    "    f_KN_times_U = 0.\n",
    "    \n",
    "    for i in range (len(T_ISRF)):\n",
    "\n",
    "        f_KN_times_U_single = ( (factor_ratio * ( m_e / (k_boltzmann*T_ISRF[i]) )**2) / ( (factor_ratio * ( m_e / (k_boltzmann*T_ISRF[i]) )**2) + (Energy/m_e)**2 ) ) * U_ISRF[i]\n",
    "        f_KN_times_U = f_KN_times_U + f_KN_times_U_single\n",
    "        \n",
    "    dE_dt_KN = - (4/3) * (sigmaT * c) * (f_KN_times_U + U_B) * (Energy/m_e)**2\n",
    "    return dE_dt_KN\n",
    "#######################################################################\n",
    "\n",
    "\n",
    "chosen_energy_loss = 1e+5           # in [GeV]\n",
    "print('Considered energy:', chosen_energy_loss*1e-3, '[TeV]')\n",
    "print('')\n",
    "\n",
    "\n",
    "def tau_func_evoli_KN(E_):\n",
    "    return - 1. / abs(loss_rate_KN(E_))\n",
    "\n",
    "\n",
    "integral_tau_KN, error_tau_KN = quad(tau_func_evoli_KN, chosen_energy_loss*1.e+3, chosen_energy_loss)\n",
    "print('tau losses at', chosen_energy_loss*1e-3, '[TeV]:', integral_tau_KN*conv_sec_yr, '[yr]')"
   ]
  },
  {
   "cell_type": "code",
   "execution_count": 5,
   "id": "5eea156b",
   "metadata": {},
   "outputs": [
    {
     "name": "stdout",
     "output_type": "stream",
     "text": [
      "Standard D = 1.69739765017366e+30 [cm^{2} s^{-1}] at 100 TeV\n",
      "TeV-halo D = 1.926774624347141e+28 [cm^{2} s^{-1}] at 100 TeV\n"
     ]
    }
   ],
   "source": [
    "### Compute the standard and TeV-halo diffusion coefficients ###\n",
    "r_d = 24.     # in [pc]  -- From Abeysakara et al. 2017\n",
    "d_final = 45.\n",
    "D_0 = 3.8e28       # in [cm^2 s^{-1}] at 1[GeV]\n",
    "\n",
    "def diff_coeff(dist_, tau_):\n",
    "    return (dist_*conv_pc_cm)**2 / ( 4.*tau_*conv_yr_sec )   # result in [cm^2 s^{-1}]\n",
    "\n",
    "def diff_coeff_standard(E_):\n",
    "    return D_0*(E_/1.)**(0.33)\n",
    "\n",
    "\n",
    "distance_diff = d_final\n",
    "tau_losses = integral_tau_KN*conv_sec_yr\n",
    "chosen_energy = 100.e+3  # in [GeV]\n",
    "\n",
    "\n",
    "print('Standard D =', diff_coeff_standard(chosen_energy), '[cm^{2} s^{-1}] at 100 TeV')\n",
    "print('TeV-halo D =', diff_coeff(distance_diff, tau_losses), '[cm^{2} s^{-1}] at 100 TeV')"
   ]
  },
  {
   "cell_type": "code",
   "execution_count": 72,
   "id": "74f1016c",
   "metadata": {},
   "outputs": [
    {
     "data": {
      "image/png": "[encoded data removed]",
      "text/plain": [
       "<Figure size 648x432 with 1 Axes>"
      ]
     },
     "metadata": {
      "needs_background": "light"
     },
     "output_type": "display_data"
    }
   ],
   "source": [
    "# Plot function from formula S8 in Abeysekara et al 2017. To describe TeV gamma-ray morphology\n",
    "\n",
    "d = np.linspace(start=0., stop=1000., num=2000)\n",
    "def func(d_):\n",
    "    return d_ * 1.22 / ( np.pi**(3/2) * r_d * (d_ + 0.06*r_d) ) * np.exp(- d_**2 / r_d**2)\n",
    "\n",
    "plt.figure(figsize=(9, 6))\n",
    "\n",
    "ax = plt.gca()\n",
    "ax.tick_params(axis='both', which='major', labelsize=26)\n",
    "ax.tick_params(axis='both', which='minor', labelsize=26)\n",
    "ax.xaxis.set_tick_params(pad=7)\n",
    "ax.xaxis.labelpad = 7\n",
    "ax.yaxis.labelpad = 15\n",
    "\n",
    "plt.loglog(d, func(d), lw=2.5, color='blue', label='Abeysekara \\\\textit{et al.} - 2017')\n",
    "\n",
    "plt.legend(frameon=False, fontsize = 20)\n",
    "plt.xlabel('$\\mathrm{dist} \\, \\mathrm{[pc]}$', fontsize=27)\n",
    "plt.ylabel('$f_{\\mathrm{d}}$', fontsize=27)\n",
    "plt.show()"
   ]
  },
  {
   "cell_type": "code",
   "execution_count": null,
   "id": "6f3b4f5d",
   "metadata": {},
   "outputs": [],
   "source": []
  },
  {
   "cell_type": "markdown",
   "id": "7c96e474",
   "metadata": {},
   "source": [
    "# Particle containment"
   ]
  },
  {
   "cell_type": "code",
   "execution_count": 6,
   "id": "fb413045",
   "metadata": {},
   "outputs": [
    {
     "name": "stdout",
     "output_type": "stream",
     "text": [
      "Measured size for gamma-ray emission of the Geminga TeV halo at 100 TeV: 23.995013449220803 pc\n",
      " Expected size of a TeV halo with standard diffusion coefficient: 431.93378805017016 pc\n"
     ]
    }
   ],
   "source": [
    "Geminga_distance = 250*conv_pc_cm # Distance to Earth in cm\n",
    "\n",
    "theta_d = 5.5 # Deg  -- Value measured! From Abeysekara 2017\n",
    "tau_cool = 8e3 # yr # For 100 TeV halo\n",
    "r_d_Diff = 2*np.sqrt(np.interp(1e5, E, D)*tau_cool*conv_yr_sec)*conv_cm_pc\n",
    "r_d = theta_d*np.pi/180 *(Geminga_distance)*conv_cm_pc\n",
    "print('Measured size for gamma-ray emission of the Geminga TeV halo at 100 TeV:', r_d, \n",
    "      'pc\\n', 'Expected size of a TeV halo with standard diffusion coefficient:', r_d_Diff, 'pc')"
   ]
  },
  {
   "cell_type": "code",
   "execution_count": 78,
   "id": "24145b8a",
   "metadata": {},
   "outputs": [],
   "source": [
    "# Formulas for the TeV gamma-ray morphology. Formulas S8 and S11 in Abeysakara et al paper\n",
    "\n",
    "def f_theta_t(theta, r):\n",
    "    return 1.22/(np.pi**(3/2) * theta_df(r) * (theta + 0.06*theta_df(r)) ) * np.exp(-theta**2/theta_df(r)**2) * theta\n",
    "\n",
    "def f_theta_r(r, th):\n",
    "    return 1.22/(np.pi**(3/2) * r_df(th) * (r + 0.06*r_df(th)) ) * np.exp(-r**2/r_df(th)**2) * r\n",
    "\n",
    "def r_df(thet):\n",
    "    return thet*np.pi/180 *(Geminga_distance)*conv_cm_pc\n",
    "\n",
    "def theta_df(r):\n",
    "    return 180/np.pi*r/((Geminga_distance)*conv_cm_pc)"
   ]
  },
  {
   "cell_type": "code",
   "execution_count": 83,
   "id": "470580d2",
   "metadata": {},
   "outputs": [
    {
     "name": "stdout",
     "output_type": "stream",
     "text": [
      "Flux contained into the reported size of Geminga (5.5 degrees): 82.67214884113372 %\n"
     ]
    }
   ],
   "source": [
    "tot_flux = 0\n",
    "flux_d = 0\n",
    "for it in range(100):\n",
    "    tot_flux += f_theta_r(it, theta_d)\n",
    "for it in np.arange(r_d+1):\n",
    "    flux_d += f_theta_r(it, theta_d) \n",
    "print('Flux contained into the reported size of Geminga (5.5 degrees):', flux_d/tot_flux*100, '%')"
   ]
  },
  {
   "cell_type": "code",
   "execution_count": 99,
   "id": "164d2b4c",
   "metadata": {},
   "outputs": [
    {
     "name": "stdout",
     "output_type": "stream",
     "text": [
      "Flux contained within 19 pc is: 0.682% ~ 1 sigma\n",
      "19 pc are 4.36 degrees\n"
     ]
    }
   ],
   "source": [
    "flux_d = 0\n",
    "size_68 = 19\n",
    "for it in np.arange(size_68):\n",
    "    flux_d += f_theta_r(it, theta_d) \n",
    "    \n",
    "print('Flux contained within', size_68, 'pc is: ' + str(np.round(flux_d/tot_flux, 3)) + '% ~ 1 sigma' )\n",
    "print(size_68, 'pc are', np.round(theta_df(size_68), 2), 'degrees')"
   ]
  },
  {
   "cell_type": "code",
   "execution_count": 98,
   "id": "4e184d3c",
   "metadata": {},
   "outputs": [
    {
     "name": "stdout",
     "output_type": "stream",
     "text": [
      "Flux contained within 14 pc is: 0.514%\n",
      "14 pc are 3.21 degrees\n"
     ]
    }
   ],
   "source": [
    "flux_d = 0\n",
    "size_50 = 14\n",
    "for it in np.arange(size_50):\n",
    "    flux_d += f_theta_r(it, theta_d) \n",
    "    \n",
    "print('Flux contained within', size_50, 'pc is: ' + str(np.round(flux_d/tot_flux, 3)) + '%' )\n",
    "print(size_50, 'pc are', np.round(theta_df(size_50), 2), 'degrees')"
   ]
  },
  {
   "cell_type": "code",
   "execution_count": 97,
   "id": "d32dbc18",
   "metadata": {},
   "outputs": [
    {
     "name": "stdout",
     "output_type": "stream",
     "text": [
      "Flux contained within 30 pc is: 0.904% ~ 2 sigma\n",
      "30 pc are 6.88 degrees\n"
     ]
    }
   ],
   "source": [
    "flux_d = 0\n",
    "size_90 = 30\n",
    "for it in np.arange(size_90):\n",
    "    flux_d += f_theta_r(it, theta_d) \n",
    "    \n",
    "print('Flux contained within', size_90, 'pc is: ' + str(np.round(flux_d/tot_flux, 3)) + '%' )\n",
    "print(size_90, 'pc are', np.round(theta_df(size_90), 2), 'degrees')"
   ]
  },
  {
   "cell_type": "code",
   "execution_count": 106,
   "id": "71e815c5",
   "metadata": {},
   "outputs": [
    {
     "name": "stdout",
     "output_type": "stream",
     "text": [
      "Flux contained within 51 pc is: 0.997% ~ 3 sigma\n",
      "51 pc are 11.69 degrees\n"
     ]
    }
   ],
   "source": [
    "flux_d = 0\n",
    "size_99 = 51\n",
    "for it in np.arange(size_99):\n",
    "    flux_d += f_theta_r(it, theta_d) \n",
    "    \n",
    "print('Flux contained within', size_99, 'pc is: ' + str(np.round(flux_d/tot_flux, 3)) + '% ~ 3 sigma' )\n",
    "print(size_99, 'pc are', np.round(theta_df(size_99), 2), 'degrees')"
   ]
  },
  {
   "cell_type": "code",
   "execution_count": null,
   "id": "b955f252",
   "metadata": {},
   "outputs": [],
   "source": []
  },
  {
   "cell_type": "code",
   "execution_count": null,
   "id": "160d6514",
   "metadata": {},
   "outputs": [],
   "source": []
  },
  {
   "cell_type": "markdown",
   "id": "698c0b26",
   "metadata": {},
   "source": [
    "# Energetics"
   ]
  },
  {
   "cell_type": "markdown",
   "id": "63d755be",
   "metadata": {},
   "source": [
    "# <center>Injection from the source\n",
    "    \n",
    "$$\n",
    "\\begin{align}\n",
    "Q(E, \\vec{r}) = Q_0 \\left( \\frac{E}{E_0} \\right)^{-\\alpha} exp\\left[-\\frac{E}{E_c}\\right] \\,\\,\\delta(\\vec{r})\\\\[10 pt]\n",
    "L(t) = L_0 \\cdot \\left(\\frac{1}{(1+t/\\tau_0)}\\right)^{-(n+1)/(n-1)}\n",
    "\\end{align}\n",
    "$$"
   ]
  },
  {
   "cell_type": "code",
   "execution_count": 4,
   "id": "ae728a0b",
   "metadata": {},
   "outputs": [],
   "source": [
    "alpha = -1.6 #\n",
    "Ec = 2.e5  # GeV \n",
    "Brakn = 3\n",
    "tau_0 = 1.2e4*conv_yr_sec # 12 kyr -> seconds\n",
    "eta = 0.2\n",
    "Edot = 3.2e34 # erg/s  # Geminga-like. Taken from various references, among them arXiv:2107.07395v1 \n",
    "tstar = 3.42e5*conv_yr_sec #kyr -> seconds\n",
    "L_0 = Edot/(1+(tstar/tau_0))**(-(Brakn+1)/(Brakn-1)) *conv_erg_GeV  # erg/s -> GeV/s\n",
    "Q_0 = 3.2e-3                 #Particles injected/GeV^2\n",
    "Emax = 1e10\n",
    "Emin = 0.01\n",
    "Ekin_fac = 1.1\n",
    "dimE = int( (np.log(Emax) - np.log(Emin)) / np.log(Ekin_fac)) + 2 # I added another more point to pass E_max!\n",
    "#print(dimE)\n",
    "E = [Emin*(Ekin_fac**i) for i in range(0,dimE)]\n",
    "E = np.array(E)\n",
    "dE = (np.append(E[1:], Emin*(Ekin_fac**dimE)) - E)/E"
   ]
  },
  {
   "cell_type": "code",
   "execution_count": 11,
   "id": "7a1ef34e",
   "metadata": {},
   "outputs": [
    {
     "data": {
      "text/plain": [
       "2.7847999999999995e+37"
      ]
     },
     "execution_count": 11,
     "metadata": {},
     "output_type": "execute_result"
    }
   ],
   "source": [
    "Edot/(1+(tstar/tau_0))**(-(Brakn+1)/(Brakn-1))"
   ]
  },
  {
   "cell_type": "code",
   "execution_count": 12,
   "id": "8b610c45",
   "metadata": {},
   "outputs": [
    {
     "name": "stdout",
     "output_type": "stream",
     "text": [
      "Integral of L ([GeV/s]) in time: 365634381808.33417 [GeV] -- Spin down energy of the pulsar until today\n",
      "Integral of Q ([GeV^-2]) in energy: 0.09123870702369453 [GeV^-1]\n",
      "Number of particles injected in the energy range from 0.01 GeV to 10000000.0 TeV: 0.9813824753660045\n"
     ]
    }
   ],
   "source": [
    "Geminga_age = 342*1e3# yr\n",
    "tt = np.arange(1, Geminga_age)\n",
    "L = L_0*(1+tt*conv_yr_sec/tau_0)**(-(Brakn+1)/(Brakn-1))  # GeV/s\n",
    "Q = Q_0*((E)**(alpha))*np.exp(-E/Ec)                      # particles injected/GeV^2\n",
    "\n",
    "## The product L_0*Q_0 gives units of [particles/(GeV s)]\n",
    "\n",
    "print('Integral of L ([GeV/s]) in time:', np.sum((1+tt*conv_yr_sec/tau_0)**(-(Brakn+1)/(Brakn-1))*conv_yr_sec), \n",
    "      '[GeV] -- Spin down energy of the pulsar until today')  ##yr\n",
    "print('Integral of Q ([GeV^-2]) in energy:',np.sum(Q_0*((E)**(alpha))*np.exp(-E/Ec)*dE*E), '[GeV^-1]') # equiv to dN/dE\n",
    "print('Number of particles injected in the energy range from {} GeV to {} TeV:'.format(Emin, Emax*1e-3),\n",
    "      np.sum(Q_0*((E)**(alpha))*np.exp(-E/Ec)*E*dE*E))"
   ]
  },
  {
   "cell_type": "code",
   "execution_count": 13,
   "id": "9ed29e0c",
   "metadata": {},
   "outputs": [
    {
     "data": {
      "image/png": "[encoded data removed]",
      "text/plain": [
       "<Figure size 648x432 with 1 Axes>"
      ]
     },
     "metadata": {
      "needs_background": "light"
     },
     "output_type": "display_data"
    }
   ],
   "source": [
    "plt.figure(figsize=(9, 6))\n",
    "\n",
    "ax = plt.gca()\n",
    "ax.tick_params(axis='both', which='major', labelsize=26)\n",
    "ax.tick_params(axis='both', which='minor', labelsize=26)\n",
    "ax.xaxis.set_tick_params(pad=7)\n",
    "ax.xaxis.labelpad = 7\n",
    "ax.yaxis.labelpad = 15\n",
    "\n",
    "plt.yscale('log')\n",
    "tt2 = np.arange(1, Geminga_age*30)\n",
    "plt.loglog(tt2, L_0*(1+tt2*conv_yr_sec/tau_0)**(-(Brakn+1)/(Brakn-1)),\n",
    "           lw=2.5, color='blue', label='Luminosity function')\n",
    "plt.axvline(x=Geminga_age, c='r', linestyle='dashed', label='Geminga age')\n",
    "plt.legend(frameon=False, fontsize = 20)\n",
    "plt.xlabel('time [yr]', fontsize=27)\n",
    "plt.ylabel('Luminosity - L(t) [erg/s]', fontsize=27)\n",
    "plt.ylim(bottom =1e36, top =3e40) \n",
    "plt.show()"
   ]
  },
  {
   "cell_type": "code",
   "execution_count": 14,
   "id": "f1e69b0d",
   "metadata": {},
   "outputs": [
    {
     "data": {
      "image/png": "[encoded data removed]",
      "text/plain": [
       "<Figure size 648x432 with 1 Axes>"
      ]
     },
     "metadata": {
      "needs_background": "light"
     },
     "output_type": "display_data"
    }
   ],
   "source": [
    "plt.figure(figsize=(9, 6))\n",
    "\n",
    "ax = plt.gca()\n",
    "ax.tick_params(axis='both', which='major', labelsize=26)\n",
    "ax.tick_params(axis='both', which='minor', labelsize=26)\n",
    "ax.xaxis.set_tick_params(pad=7)\n",
    "ax.xaxis.labelpad = 7\n",
    "ax.yaxis.labelpad = 15\n",
    "\n",
    "plt.yscale('log')\n",
    "plt.xscale('log')\n",
    "plt.loglog(E, Q, lw=2.5, color='blue', label='injection spectrum - Q(E)')\n",
    "plt.legend(frameon=False, fontsize = 20)\n",
    "plt.xlabel('Energy [GeV]', fontsize=27)\n",
    "plt.ylabel(r'd$^2$N/dE$^2$ [GeV$^{-2}$]', fontsize=27)\n",
    "plt.ylim(bottom =1e-37) \n",
    "plt.xlim(right = 1e7, left = 0.1)\n",
    "plt.show()"
   ]
  },
  {
   "cell_type": "markdown",
   "id": "300ecbf1",
   "metadata": {},
   "source": [
    "# <center>           Initial spind down energy\n",
    "\\begin{align} \\int^{\\inf}_{0.1~\\small{GeV}} L_0 Q(E) E dE\\, =\\, \\int^{\\inf}_{0.1~\\small{GeV}} L_0 Q_0 \\left(\\frac{E}{1~\\small{GeV}}\\right)^{-\\alpha}e^{-E/E_c} E dE\\, =\\, W_0\n",
    "\\end{align}\n",
    "$\\alpha = 1.6 \\, ; \\, E_c = 2e5\\, GeV$\n",
    "\n",
    "$L_0 \\, \\text{is fixed to the initial spin down energy:}\\, L_0= 3.2e34 \\,erg/s$\n",
    "\n",
    "$Q_0 \\, \\text{is used to normalize the predicted gamma-ray flux to the HAWC flux:} \\, Q_0 \\sim 3.2\\cdot10^{-3} \\,(GeV^{-2})$"
   ]
  },
  {
   "cell_type": "code",
   "execution_count": 15,
   "id": "9100854a",
   "metadata": {},
   "outputs": [
    {
     "name": "stdout",
     "output_type": "stream",
     "text": [
      "Ruo-Yu initial spin down power:  W_0 = 9.098181818181817e+35 erg/s --> 7.886998999999998e+38 erg/s \n",
      "Abeysakara best-fit value:  W_0 = 2.8e+37 erg/s --> 1.7476227999999998e+40 GeV/s\n"
     ]
    }
   ],
   "source": [
    "##Ruo-Yu's W value\n",
    "print('Ruo-Yu initial spin down power:  W_0 =', 3.6e47*2.78e37/1.1e49, 'erg/s -->', \n",
    "      5e47*2.78e37/1.1e49*conv_erg_GeV, 'erg/s \\nAbeysakara best-fit value:  W_0 =', \n",
    "      2.8e37, 'erg/s -->', 2.8e37*conv_erg_GeV, 'GeV/s')"
   ]
  },
  {
   "cell_type": "code",
   "execution_count": 16,
   "id": "38d38f04",
   "metadata": {},
   "outputs": [
    {
     "name": "stdout",
     "output_type": "stream",
     "text": [
      "Initial spin down power in my simulation 1.7057759204986583e+40 GeV/s\n"
     ]
    }
   ],
   "source": [
    "#Total power in my simulation - Integrated spin down power at t=0\n",
    "print('Initial spin down power in my simulation', np.sum((L_0* Q_0*((E)**(alpha))*np.exp(-E/Ec))*E*dE*E), 'GeV/s')"
   ]
  },
  {
   "cell_type": "markdown",
   "id": "9835b7d5",
   "metadata": {},
   "source": [
    "# <center>Total energy budget of the source\n",
    "    \n",
    "$$\n",
    "\\begin{align}\n",
    "E_{\\mathrm{tot}} &= W = \\int d^3 \\vec{r} \\int^{t_{\\mathrm{age}}}_{t_{\\mathrm{rel}}(E)} dt \\int_0^{+ \\infty} dE \\, E \\cdot L(t)\\, Q(E, \\vec{r})\\, = L_0 \\, E_0^2 \\, Q_0 \\cdot \\tau_{\\mathrm{d}} \\int^{t_{\\mathrm{age}}}_{t_{\\mathrm{rel}}(\\omega)} dz \\, \\frac{1}{\\left( 1 + z \\right)^{\\alpha}} \\int^{+ \\infty}_{0} d\\omega \\cdot \\omega^{-\\Gamma_{\\mathrm{inj}} + 1 }  \\\\[10 pt]\n",
    "&= N_0 \\cdot \\tau_{\\mathrm{d}} \\int^{t_{\\mathrm{age}}}_{t_{\\mathrm{rel}}(\\omega)} dz \\, \\frac{1}{\\left( 1 + z \\right)^{\\alpha}} \\int^{+ \\infty}_{0} d\\omega \\cdot \\omega^{-\\Gamma_{\\mathrm{inj}} + 1 }\n",
    "\\end{align}\n",
    "$$"
   ]
  },
  {
   "cell_type": "code",
   "execution_count": 10,
   "id": "e8f2108d",
   "metadata": {},
   "outputs": [
    {
     "name": "stdout",
     "output_type": "stream",
     "text": [
      "Integral of L ([GeV/s]) in time: 365634381808.33417 [GeV] -- Spin down energy of the pulsar until today\n",
      "Integral of Q ([GeV^-2]) in energy: 0.09123870702369453 [GeV^-1]\n",
      "Number of particles injected in the energy range from 0.01 GeV to 10000000.0 TeV: 0.9813824753660045\n"
     ]
    }
   ],
   "source": [
    "Geminga_age = 342*1e3# yr\n",
    "tt = np.arange(1, Geminga_age)\n",
    "L = L_0*(1+tt*conv_yr_sec/tau_0)**(-(Brakn+1)/(Brakn-1))  # GeV/s\n",
    "Q = Q_0*((E)**(alpha))*np.exp(-E/Ec)                      # particles injected/GeV^2\n",
    "\n",
    "## The product L_0*Q_0 gives units of [particles/(GeV s)]\n",
    "\n",
    "print('Integral of L ([GeV/s]) in time:', np.sum((1+tt*conv_yr_sec/tau_0)**(-(Brakn+1)/(Brakn-1))*conv_yr_sec), \n",
    "      '[GeV] -- Spin down energy of the pulsar until today')  ##yr\n",
    "print('Integral of Q ([GeV^-2]) in energy:',np.sum(Q_0*((E)**(alpha))*np.exp(-E/Ec)*dE*E), '[GeV^-1]') # equiv to dN/dE\n",
    "print('Number of particles injected in the energy range from {} GeV to {} TeV:'.format(Emin, Emax*1e-3),\n",
    "      np.sum(Q_0*((E)**(alpha))*np.exp(-E/Ec)*E*dE*E))"
   ]
  },
  {
   "cell_type": "code",
   "execution_count": 17,
   "id": "8bd3acc4",
   "metadata": {
    "scrolled": true
   },
   "outputs": [
    {
     "name": "stdout",
     "output_type": "stream",
     "text": [
      "Luminosity today: 2.7847999999999995e+37 erg/s\n"
     ]
    }
   ],
   "source": [
    "print('Luminosity today:', L_0*conv_GeV_erg, 'erg/s')"
   ]
  },
  {
   "cell_type": "code",
   "execution_count": 42,
   "id": "fa0cefdb",
   "metadata": {},
   "outputs": [
    {
     "name": "stdout",
     "output_type": "stream",
     "text": [
      "current normalization (L_0 x Q_0) = 1.095123480881904e+48 [erg^{-1} yr^{-1}] or 5.562034255359999e+37 [GeV^{-1} s^{-1}]\n",
      "Geminga-like normalization (L_0 x Q_0) = 1.2628774378930008e+48 [erg^{-1} yr^{-1}]\n",
      "\n",
      "Total energy budget in the simulation= 9.538818200600075e+48 [erg]\n",
      "Geminga energy budget= 1.1e+49 [erg] - We need an extra factor of: 1.1531826866464447\n"
     ]
    }
   ],
   "source": [
    "def func(omega_):\n",
    "    return omega_**(-gamma + 1) * np.exp( -(E_0_erg / E_c_erg)*omega_ )\n",
    "\n",
    "def func_time(z_):\n",
    "    return 1. / (1 + z_)**nra\n",
    "\n",
    "\n",
    "conv_GeV_erg = 0.00160218\n",
    "conv_s_yr = 3.17e-8\n",
    "\n",
    "\n",
    "E_0 = 1.      # in [GeV]\n",
    "E_0_erg = E_0*conv_GeV_erg\n",
    "E_c_erg = Ec*conv_GeV_erg\n",
    "gamma = 1.6\n",
    "tau_0 = 12.e+3   # in [yr]\n",
    "nra = 2.\n",
    "norm = L_0*Q_0  # in [GeV^{-1} s^{-1}]\n",
    "norm_erg_yr = norm / (conv_GeV_erg * conv_s_yr)\n",
    "\n",
    "I, err = quad(func, 0.01, 1.e+8) # GeV\n",
    "#I, err = quad(func, 8000, 40000) # GeV\n",
    "I_time, err_time = quad(func_time, 0., 342.e+3 / tau_0) #yr\n",
    "\n",
    "#print('integral =', I)\n",
    "print('current normalization (L_0 x Q_0) =', norm_erg_yr, '[erg^{-1} yr^{-1}] or', norm, '[GeV^{-1} s^{-1}]')\n",
    "print('Geminga-like normalization (L_0 x Q_0) =', W_e / (tau_0 * (I*I_time) * E_0_erg**2), '[erg^{-1} yr^{-1}]')\n",
    "print('')\n",
    "print('Total energy budget in the simulation=', tau_0 * (I*I_time) * norm_erg_yr * E_0_erg**2, '[erg]')\n",
    "\n",
    "W_e = 1.1e+49   # in [erg]\n",
    "#norm_gem = W_e / (tau_0 * (I*I_time) * E_0_erg**2)\n",
    "\n",
    "print('Geminga energy budget=', W_e, '[erg] - We need an extra factor of:', \n",
    "      W_e/(tau_0 * (I*I_time) * norm_erg_yr * E_0_erg**2))\n",
    "#print('Geminga L_0*Q_0 =', norm_gem * (conv_GeV_erg * conv_s_yr), '[GeV^{-1} s^{-1}]')"
   ]
  },
  {
   "cell_type": "code",
   "execution_count": 44,
   "id": "b8d4a0d4",
   "metadata": {},
   "outputs": [
    {
     "name": "stdout",
     "output_type": "stream",
     "text": [
      "My Q_0 is: 0.0032 and that from Geminga halo is: 0.003690184597268624\n"
     ]
    }
   ],
   "source": [
    "print('My Q_0 is:', Q_0, 'and that from Geminga halo is:', W_e / (tau_0 * (I*I_time) * E_0_erg**2) * (conv_GeV_erg * conv_s_yr)/L_0)"
   ]
  },
  {
   "cell_type": "code",
   "execution_count": null,
   "id": "62dde107",
   "metadata": {},
   "outputs": [],
   "source": []
  },
  {
   "cell_type": "code",
   "execution_count": null,
   "id": "2b25f134",
   "metadata": {},
   "outputs": [],
   "source": []
  }
 ],
 "metadata": {
  "kernelspec": {
   "display_name": "Python 3",
   "language": "python",
   "name": "python3"
  },
  "language_info": {
   "codemirror_mode": {
    "name": "ipython",
    "version": 3
   },
   "file_extension": ".py",
   "mimetype": "text/x-python",
   "name": "python",
   "nbconvert_exporter": "python",
   "pygments_lexer": "ipython3",
   "version": "3.8.8"
  }
 },
 "nbformat": 4,
 "nbformat_minor": 5
}
