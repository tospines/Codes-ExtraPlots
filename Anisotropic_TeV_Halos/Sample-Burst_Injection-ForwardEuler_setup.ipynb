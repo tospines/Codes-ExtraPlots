{
 "cells": [
  {
   "cell_type": "code",
   "execution_count": 11,
   "id": "17d2569b",
   "metadata": {},
   "outputs": [],
   "source": [
    "import os\n",
    "import numpy as np\n",
    "import matplotlib\n",
    "import matplotlib.pyplot as plt\n",
    "from astropy.io import fits\n",
    "from mpl_toolkits.mplot3d import Axes3D\n",
    "from matplotlib import cm\n",
    "from matplotlib import rc, rcParams\n",
    "from scipy import interpolate\n",
    "import matplotlib.ticker as mticker\n",
    "import math\n",
    "import time\n",
    "import scipy.optimize as optimize\n",
    "from scipy.integrate import quad"
   ]
  },
  {
   "cell_type": "code",
   "execution_count": 12,
   "id": "fb001db7",
   "metadata": {},
   "outputs": [],
   "source": [
    "###############\n",
    "# LaTeX block #\n",
    "###############\n",
    "\n",
    "rc('text', usetex=True)\n",
    "rc('font',**{'family':'serif','serif':['Palatino']})\n",
    "rc('xtick', labelsize=18)\n",
    "rc('ytick', labelsize=18)\n",
    "rcParams['legend.numpoints'] = 1\n",
    "plt.rcParams['axes.linewidth'] = 2"
   ]
  },
  {
   "cell_type": "code",
   "execution_count": null,
   "id": "c06703c2",
   "metadata": {},
   "outputs": [],
   "source": []
  },
  {
   "cell_type": "code",
   "execution_count": 13,
   "id": "d79b0dad",
   "metadata": {},
   "outputs": [],
   "source": [
    "M_A = 0.3\n",
    "D_ref = 3.8*1.e28 ## this is [cm^2/s]"
   ]
  },
  {
   "cell_type": "code",
   "execution_count": 14,
   "id": "be46531b",
   "metadata": {},
   "outputs": [
    {
     "name": "stdout",
     "output_type": "stream",
     "text": [
      "Alfvenic Mach number, M_A: 0.3\n",
      "Normalization of D, D_0: 3.7999999999999994e+28 \n",
      "\n"
     ]
    }
   ],
   "source": [
    "## Block for preliminary assignments ##\n",
    "L_ref = 120.    # chosen reference length, in [pc]   Default is 120 pc!!!\n",
    "print(r'Alfvenic Mach number, M_A:', M_A)\n",
    "\n",
    "# Diffusion coefficient \n",
    "print(r'Normalization of D, D_0:', D_ref, '\\n')\n",
    "delta = 1./3. #0.5\n",
    "\n",
    "Nt = int(5.67e5) \n",
    "Nz = 200\n",
    "Nr = 200\n",
    "\n",
    "Lr = 1\n",
    "Lz = 1\n",
    "\n",
    "z = np.linspace(start = -Lz, stop = Lz, num = Nz+1, endpoint=True)\n",
    "r = np.linspace(start = 0, stop = Lr, num = Nr+1, endpoint=True)\n",
    "#r = np.linspace(start = 0, stop = Lr, num = Nr+1, endpoint=True)\n",
    "\n",
    "dr = Lr/Nr\n",
    "dz = 2*Lz/Nz\n"
   ]
  },
  {
   "cell_type": "code",
   "execution_count": 15,
   "id": "212857a8",
   "metadata": {},
   "outputs": [
    {
     "name": "stdout",
     "output_type": "stream",
     "text": [
      "Evaluating 37 Points in energy\n",
      "Energy grid: [300.0, 360.0, 432.0, 518.4, 622.0799999999999, 746.4959999999999, 895.7951999999998, 1074.9542399999998, 1289.9450879999995, 1547.9341055999996, 1857.5209267199991, 2229.025112063999, 2674.830134476799, 3209.796161372158, 3851.7553936465897, 4622.106472375908, 5546.527766851089, 6655.833320221306, 7986.999984265568, 9584.39998111868, 11501.279977342418, 13801.5359728109, 16561.84316737308, 19874.211800847694, 23849.054161017233, 28618.86499322068, 34342.63799186481, 41211.165590237775, 49453.39870828532, 59344.07844994238, 71212.89413993087, 85455.47296791704, 102546.56756150044, 123055.88107380051, 147667.0572885606, 177200.46874627273, 212640.56249552727] Energy resolution: [0.2 0.2 0.2 0.2 0.2 0.2 0.2 0.2 0.2 0.2 0.2 0.2 0.2 0.2 0.2]\n",
      "\n",
      "Our reference diffusion coefficient (at 1 GeV) is: D_ref = 3.7999999999999994e+28 cm^2/s = 0.12579905392620624 $pc^2/yr$\n",
      "\n",
      "Nr =  200\n",
      "Nz =  200\n",
      "Nt =  567000\n",
      "\n",
      "r array: from 0.0 to 120.0 pc\n",
      "z array: from -120.0 to 120.0 pc\n",
      "t array: from 0.0 to 10.872422095595793 kyr\n",
      "\n",
      "Space step dr = 0.6 pc\n",
      "Space step dz = 1.2 pc\n",
      "Time step dt = 0.019175381430294923 yr\n",
      "\n"
     ]
    }
   ],
   "source": [
    "##############################################################################################################################\n",
    "\n",
    "Emin = 300. #300.\n",
    "Emax = 2.e5 #4.e5 \n",
    "Ekin_fac = 1.2 # 1.3 \n",
    "#dimE = 60\n",
    "#Ekin_fac = np.exp( (np.log(Emax) - np.log(Emin)) / (dimE-1) )\n",
    "dimE = int( (np.log(Emax) - np.log(Emin)) / np.log(Ekin_fac)) + 2 # I added another more point to pass E_max!\n",
    "E = [Emin*(Ekin_fac**i) for i in range(0,dimE)]\n",
    "E = np.array(E)\n",
    "dE = (np.append(E[1:], Emin*(Ekin_fac**dimE)) - E)/E\n",
    "\n",
    "print('Evaluating', dimE, 'Points in energy')\n",
    "print('Energy grid:', list(E), 'Energy resolution:', np.unique(dE))\n",
    "print('')\n",
    "###############\n",
    "\n",
    "#d_cyg_ref = 1.5e+3           # reference distance of the Cygnus-X region, in [pc]\n",
    "conv_pc_cm = 3.086e+18       # conversion factor from [pc] to [cm]\n",
    "conv_cm_pc = 3.24e-19        # conversion factor from [cm] to [pc]\n",
    "conv_s_yr = 3.171e-8         # conversion factor from [sec] to [yr]\n",
    "conv_yr_sec = 3.154e+7       # conversion factor from [yr] to [sec]\n",
    "conv_rad_degree = 57.2958    # conversion factor from [rad] to [deg]\n",
    "c = 2.998e+10                # speed of light, in [cm/s]\n",
    "\n",
    "\n",
    "\n",
    "print(r'Our reference diffusion coefficient (at 1 GeV) is: D_ref =', D_ref, r'cm^2/s =', \n",
    "      D_ref*((conv_cm_pc**2)/conv_s_yr), r'$pc^2/yr$')\n",
    "print(\"\")\n",
    "D = (D_ref*(E**delta)/(L_ref*c*conv_pc_cm))\n",
    "\n",
    "\n",
    "\n",
    "# Time grid #\n",
    "F = 1./2.      # according to the stability condition\n",
    "dt = F / ( np.max(D)/dr**2 + np.max(D)/dz**2 )\n",
    "#dt *= 20\n",
    "#dt = 0.5999170828110867/(L_ref/(c*conv_cm_pc/conv_s_yr))\n",
    "\n",
    "t = np.arange(start = 0., stop = Nt*dt, step = dt)\n",
    "#############\n",
    "\n",
    "\n",
    "\n",
    "print(\"Nr = \", Nr)\n",
    "print(\"Nz = \", Nz)\n",
    "print(\"Nt = \", Nt)\n",
    "print(\"\")\n",
    "\n",
    "print(\"r array: from\", np.min(r)*L_ref, 'to', np.max(r)*L_ref, 'pc')\n",
    "print(\"z array: from\", np.min(z)*L_ref, 'to', np.max(z)*L_ref, 'pc')\n",
    "print(\"t array: from\", np.min(t)*L_ref/(c*conv_cm_pc/conv_s_yr)*1e-3, 'to', np.max(t)*L_ref/(c*conv_cm_pc/conv_s_yr)*1e-3, 'kyr')\n",
    "print(\"\")\n",
    "\n",
    "print(\"Space step dr =\", dr*L_ref, 'pc')\n",
    "print(\"Space step dz =\", dz*L_ref, 'pc')\n",
    "print(\"Time step dt =\", dt*L_ref/(c*conv_cm_pc/conv_s_yr), 'yr')\n",
    "print(\"\")\n"
   ]
  },
  {
   "cell_type": "code",
   "execution_count": 16,
   "id": "d7ea888b",
   "metadata": {},
   "outputs": [],
   "source": [
    "## Source term\n",
    "alpha = -1.6 ##2.2\n",
    "Ec = 2.e5 #1e6 # GeV \n",
    "Brakn = 3\n",
    "tau_0 = 1.2e4*conv_yr_sec # 12 kyr -> seconds  #1.2e6*3.1e10 # 1.20 Myr -> seconds    #1.2e4*3.1e10 # 12 kyr -> seconds\n",
    "Edot = 3.2e34 # erg/s  # Geminga-like. Taken from various references, among them arXiv:2107.07395v1 \n",
    "L_0 = Edot * 624.151# L/eta at t = 0 -- erg/s -> GeV/s\n",
    "Q_0 = 3.2 # d^{2}N/dE^{2} -- particles/GeV^2"
   ]
  },
  {
   "cell_type": "code",
   "execution_count": 17,
   "id": "9f3d889c",
   "metadata": {},
   "outputs": [],
   "source": [
    "############# Definition of the density grid ############\n",
    "U_matrix = np.zeros((len(r), len(z), dimE+2), dtype=float)\n",
    "# density is going to be computed in a square from the 2nd bin to the max-1 bin (from i=1 to i=-2=dimE)\n",
    "\n",
    "r_cent = np.where(r==0)[0][0]\n",
    "z_cent = np.where(z==0)[0][0]    \n",
    "def Source(tt):    #dN/dtdE from L(dE/dt)*Q_0(dN/dE^2)\n",
    "    Source_map = np.zeros(U_matrix.shape) \n",
    "    Source_map[r_cent, z_cent, 1:dimE+1] +=\\\n",
    "    (L_ref*conv_pc_cm/c)*L_0*(1+(tt*L_ref*conv_pc_cm/c/tau_0))**(-(Brakn+1)/(Brakn-1)) * Q_0*((E)**(alpha))*np.exp(-E/Ec)  \n",
    "    #(i.e. a row in the density matrix will consist of 0,vec(x),0, this is why it has len of Nx+2)\n",
    "    #(L_ref/(c*conv_cm_pc)) is the adimensionalization factor\n",
    "    return Source_map"
   ]
  },
  {
   "cell_type": "code",
   "execution_count": null,
   "id": "a57cfed4",
   "metadata": {},
   "outputs": [],
   "source": []
  },
  {
   "cell_type": "markdown",
   "id": "050921bd",
   "metadata": {},
   "source": [
    "## Matrix construction"
   ]
  },
  {
   "cell_type": "code",
   "execution_count": 18,
   "id": "3522f5a4",
   "metadata": {
    "scrolled": true
   },
   "outputs": [
    {
     "name": "stdout",
     "output_type": "stream",
     "text": [
      "0 100\n"
     ]
    }
   ],
   "source": [
    "def tridiag(a, b, c, k1=-1, k2=0, k3=1):\n",
    "    return np.diag(a, k1) + np.diag(b, k2) + np.diag(c, k3)\n",
    "\n",
    "################# Crank-Nicholson coefficients ####################\n",
    "DIAG_r = 1 - 2*(M_A**4)*D*dt/(2*dr**2)  # 1- 2*alpha_1\n",
    "\n",
    "U_r = []\n",
    "L_r = []       \n",
    "for ie in range(dimE):                \n",
    "    L_r.append( (M_A**4)*D[ie]*dt/(2*dr**2) - (D[ie]*(M_A**4)*dt/(2*2*dr*(r+dr/2))) )\n",
    "    U_r.append( (M_A**4)*D[ie]*dt/(2*dr**2) + (D[ie]*(M_A**4)*dt/(2*2*dr*(r+dr/2))) )\n",
    "    # Create a matrix, for matrix dot multiplication! \n",
    "    #it has shape (dimE, Nr, Nz) and we want to multiply by (Nr, Nz, dimE), so B_2D.T[:, :, 1] should be (Nx, Ny, dimE)\n",
    "\n",
    "DIAG_z = 1 - 2*D*dt/(2*dz**2)  # 1 - 2*alpha_3\n",
    "U_z = D*dt/(2*dz**2)\n",
    "L_z = D*dt/(2*dz**2)\n",
    "\n",
    "print(r_cent, z_cent)"
   ]
  },
  {
   "cell_type": "code",
   "execution_count": null,
   "id": "2bd4ab1f",
   "metadata": {},
   "outputs": [],
   "source": []
  },
  {
   "cell_type": "code",
   "execution_count": 10,
   "id": "41e3bf2f",
   "metadata": {
    "scrolled": true
   },
   "outputs": [
    {
     "name": "stdout",
     "output_type": "stream",
     "text": [
      "Running the solver!\n",
      "\n",
      "Total simulation time: 0.01 kyrs\n",
      "0.00755265474319458 h\n"
     ]
    }
   ],
   "source": [
    "#### Running!!! #########\n",
    "print('Running the solver!\\n')\n",
    "\n",
    "t0 = time.time() \n",
    "\n",
    "simsteps = int(500) #Nt\n",
    "S_ = []\n",
    "Inject = []\n",
    "print('Total simulation time:', np.round(simsteps*dt *L_ref*conv_pc_cm/c *conv_s_yr /1000, 2), 'kyrs')\n",
    "for it in range(simsteps): \n",
    "    for ie in range(dimE, 0, -1):\n",
    "        \n",
    "        Alpha_r = tridiag(L_r[ie-1][1:], np.ones(Nr+1)*DIAG_r[ie-1], U_r[ie-1][:-1])\n",
    "        Alpha_z = tridiag(np.ones(Nz)*L_z[ie-1], np.ones(Nz+1)*DIAG_z[ie-1], np.ones(Nz)*U_z[ie-1])\n",
    "        \n",
    "        ## Von Neumann boundary conditions (insulated b.c.) at r=0,       \n",
    "        Alpha_r[0][1] = 2*(M_A**4)*D[ie-1]*dt/(2*dr**2) \n",
    "        \n",
    "                \n",
    "        if it == 0:\n",
    "            S_av = dt*(Source(t[it])[:, :, ie] + Source((t[it] + dt))[:, :, ie])/2\n",
    "            Inject.append(np.sum(S_av))\n",
    "        else: S_av = 0\n",
    "                \n",
    "        U_matrix[:, :, ie] = np.dot(Alpha_r, U_matrix[:, :, ie]) + np.dot(Alpha_z, U_matrix[:, :, ie].T).T + S_av\n",
    "\n",
    "    S_.append(U_matrix.copy())\n",
    "\n",
    "print((time.time() - t0)/3600, 'h')           "
   ]
  },
  {
   "cell_type": "code",
   "execution_count": null,
   "id": "3d6c50fb",
   "metadata": {},
   "outputs": [],
   "source": []
  },
  {
   "cell_type": "code",
   "execution_count": 33,
   "id": "9511e2aa",
   "metadata": {},
   "outputs": [],
   "source": [
    "rc('text', usetex=False)"
   ]
  },
  {
   "cell_type": "code",
   "execution_count": 34,
   "id": "2b09aa8a",
   "metadata": {
    "scrolled": false
   },
   "outputs": [
    {
     "name": "stderr",
     "output_type": "stream",
     "text": [
      "findfont: Font family ['serif'] not found. Falling back to DejaVu Sans.\n",
      "findfont: Font family ['serif'] not found. Falling back to DejaVu Sans.\n"
     ]
    },
    {
     "name": "stdout",
     "output_type": "stream",
     "text": [
      "E = 102546.56756150044 GeV\n",
      "\n"
     ]
    },
    {
     "name": "stderr",
     "output_type": "stream",
     "text": [
      "findfont: Font family ['serif'] not found. Falling back to DejaVu Sans.\n",
      "findfont: Font family ['serif'] not found. Falling back to DejaVu Sans.\n",
      "findfont: Font family ['serif'] not found. Falling back to DejaVu Sans.\n"
     ]
    },
    {
     "data": {
      "image/png": "[encoded data removed]",
      "text/plain": [
       "<Figure size 1080x432 with 2 Axes>"
      ]
     },
     "metadata": {
      "needs_background": "light"
     },
     "output_type": "display_data"
    }
   ],
   "source": [
    "## Block to plot the contour plots for the same energy at different time steps and planes z, in the xy-plane ##\n",
    "\n",
    "ien = 32             # chosen energy index\n",
    "   \n",
    "fig = plt.figure(figsize=(15,6))\n",
    "fig.suptitle('Electrons density - Anisotropic diffusion', fontsize=20, y=0.98)\n",
    "ax = plt.gca()\n",
    "\n",
    "print('E =', E[ien], 'GeV')\n",
    "print('')\n",
    "\n",
    "\n",
    "extent = np.min(z)*L_ref, np.max(z)*L_ref, np.max(r)*L_ref, np.min(r)*L_ref\n",
    "cp = plt.imshow(U_matrix[:, :, ien+1], animated=True, aspect='equal', cmap='viridis', extent = extent,\n",
    "                interpolation='nearest',\n",
    "                norm=matplotlib.colors.LogNorm(vmin=np.max(U_matrix[:-1, :-1, ien+1])/1000, vmax=np.max(U_matrix[:-1, 1:-1, ien+1])) )\n",
    "\n",
    "plt.xlim(left = -L_ref, right = L_ref)\n",
    "plt.ylim(bottom = 0, top = L_ref)\n",
    "\n",
    "plt.text(55, 100, 'E$_e$= ' + str(round(E[ien]*1e-3, 1)) + ' TeV', fontsize=19, c='white')\n",
    "plt.text(65, 80, r'M$_A$= ' + str(round(M_A, 1)), fontsize=22, c='white', weight = 'bold')\n",
    "\n",
    "cbar = fig.colorbar(cp)\n",
    "cbar.ax.get_yaxis().labelpad = 35                       \n",
    "cbar.ax.set_ylabel(r'Density [$cm^{-3}GeV^{-1}}$]', rotation=270, fontsize=23)\n",
    "plt.xlabel(r'Z axis [$\\mathrm{pc}$]', fontsize=23)\n",
    "plt.ylabel(r'R axis [$\\mathrm{pc}$]', fontsize=23)\n",
    "\n",
    "#plt.savefig('C:/Users/pedro/OneDrive/Escritorio/TeV_electons-Map_{}TeV.png'.format(round(E[ien]*1e-3, 1)), dpi=250)\n",
    "#plt.savefig('C:/Users/pedro/OneDrive/Escritorio/TeV_electons_CN-PR.pdf')\n",
    "\n",
    "#ax.tick_params(axis='x', which='major', labelsize=22, pad=0)\n",
    "#ax.tick_params(axis='y', which='major', labelsize=22, pad=0)\n",
    "#ax.xaxis.labelpad = 16\n",
    "#ax.yaxis.labelpad = 16\n",
    "plt.show()"
   ]
  },
  {
   "cell_type": "code",
   "execution_count": null,
   "id": "448217c7",
   "metadata": {},
   "outputs": [],
   "source": []
  },
  {
   "cell_type": "markdown",
   "id": "e1f40ba6",
   "metadata": {},
   "source": [
    "## Power vs time"
   ]
  },
  {
   "cell_type": "code",
   "execution_count": 31,
   "id": "7f8b9082",
   "metadata": {},
   "outputs": [],
   "source": [
    "ien = 32             # chosen energy index\n",
    "Power_High = [np.sum(S_[i][:, :, ien+1].T * ((r+dr/2)) ) for i in range(len(S_))]\n",
    "Power_Low = [np.sum(S_[i][:, :, 1].T * ((r+dr/2)) ) for i in range(len(S_))]"
   ]
  },
  {
   "cell_type": "code",
   "execution_count": 32,
   "id": "0943c308",
   "metadata": {
    "scrolled": false
   },
   "outputs": [
    {
     "name": "stdout",
     "output_type": "stream",
     "text": [
      "E = 102.54656756150045 TeV\n",
      "\n"
     ]
    },
    {
     "name": "stderr",
     "output_type": "stream",
     "text": [
      "findfont: Font family ['serif'] not found. Falling back to DejaVu Sans.\n"
     ]
    },
    {
     "data": {
      "image/png": "[encoded data removed]",
      "text/plain": [
       "<Figure size 1080x432 with 1 Axes>"
      ]
     },
     "metadata": {
      "needs_background": "light"
     },
     "output_type": "display_data"
    }
   ],
   "source": [
    "fig = plt.figure(figsize=(15,6))\n",
    "fig.suptitle('Power vs time', fontsize=20, y=0.98)\n",
    "ax = plt.gca()\n",
    "\n",
    "#plt.yscale('log')\n",
    "print('E =', E[ien]*1e-3, 'TeV')\n",
    "print('')\n",
    "\n",
    "plt.plot(np.arange(len(S_))*dt*L_ref/(c*conv_cm_pc/conv_s_yr),\n",
    "         Power_High/(Inject[::-1][ien]*dr/2), 'b--', lw=3, label= r'Ratio power, M$_A$= ' + str(round(M_A, 1)) + ' - E$_e$= ' + str(round(E[ien]*1e-3, 1)) + ' TeV', color = 'b')\n",
    "\n",
    "plt.plot(np.arange(len(S_))*dt*L_ref/(c*conv_cm_pc/conv_s_yr),\n",
    "         Power_Low/(Inject[::-1][0]*dr/2), 'g*', lw=3, label= r'Ratio power, M$_A$= ' + str(round(M_A, 1)) + ' - E$_e$= ' + str(round(E[0]*1e-3, 1)) + ' TeV')\n",
    "\n",
    "#plt.xlim(right = 5)\n",
    "#plt.ylim(bottom = 0.8, top = 1.2)\n",
    "\n",
    "#plt.text(1, 1, 'E$_e$= ' + str(round(E[ien]*1e-3, 1)) + ' TeV', fontsize=19, c='white')\n",
    "#plt.text(1, 1, r'M$_A$= ' + str(round(M_A, 1)), fontsize=22, c='white', weight = 'bold')\n",
    "\n",
    "plt.xlabel(r'time [$\\mathrm{yr}$]', fontsize=23)\n",
    "plt.ylabel(r'Power within the window/Power injected [$\\mathrm{particles/GeV}$]', fontsize=23)\n",
    "plt.legend(fontsize=20)\n",
    "ax = plt.gca()\n",
    "ax.tick_params(axis='x', which='major', labelsize=22, pad=0)\n",
    "ax.tick_params(axis='y', which='major', labelsize=22, pad=0)\n",
    "ax.xaxis.labelpad = 16\n",
    "ax.yaxis.labelpad = 16\n",
    "\n",
    "plt.show()\n",
    "plt.close()"
   ]
  },
  {
   "cell_type": "code",
   "execution_count": null,
   "id": "0bfafef8",
   "metadata": {},
   "outputs": [],
   "source": []
  },
  {
   "cell_type": "code",
   "execution_count": null,
   "id": "a2ef6260",
   "metadata": {},
   "outputs": [],
   "source": []
  }
 ],
 "metadata": {
  "kernelspec": {
   "display_name": "Python 3",
   "language": "python",
   "name": "python3"
  },
  "language_info": {
   "codemirror_mode": {
    "name": "ipython",
    "version": 3
   },
   "file_extension": ".py",
   "mimetype": "text/x-python",
   "name": "python",
   "nbconvert_exporter": "python",
   "pygments_lexer": "ipython3",
   "version": "3.8.8"
  }
 },
 "nbformat": 4,
 "nbformat_minor": 5
}
